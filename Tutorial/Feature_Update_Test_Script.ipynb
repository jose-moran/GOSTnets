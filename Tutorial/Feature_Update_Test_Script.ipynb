{
 "cells": [
  {
   "cell_type": "code",
   "execution_count": 1,
   "metadata": {},
   "outputs": [],
   "source": [
    "import os, sys, time, importlib, osmium, logging, pyproj\n",
    "import osmnx\n",
    "\n",
    "import geopandas as gpd\n",
    "import pandas as pd\n",
    "import networkx as nx\n",
    "import numpy as np\n",
    "import shapely.wkb as wkblib\n",
    "\n",
    "from functools import partial\n",
    "from shapely.ops import transform\n",
    "from shapely.geometry import Point, LineString\n",
    "\n",
    "# import current version of GOSTnets\n",
    "sys.path.insert(0,\"../\")\n",
    "\n",
    "import GOSTnets as gn\n",
    "import GOSTnets.load_osm as losm\n",
    "import GOSTnets.load_osmium as losmium\n",
    "import GOSTnets.mapbox_traffic as mb\n",
    "import GOSTnets.network_clean"
   ]
  },
  {
   "cell_type": "code",
   "execution_count": 2,
   "metadata": {},
   "outputs": [],
   "source": [
    "# Test osmium load to generate G\n",
    "osm_file = r\"C:\\temp\\dhaka-latest.osm.pbf\"\n",
    "mapbox_traffic_file = \"C:/temp/1320222-Asia-Dhaka.csv\""
   ]
  },
  {
   "cell_type": "markdown",
   "metadata": {},
   "source": [
    "# Test various attempts to read in G object"
   ]
  },
  {
   "cell_type": "code",
   "execution_count": null,
   "metadata": {},
   "outputs": [],
   "source": [
    "G_osm = losm.OSM_to_network(osm_file)\n",
    "G_regular = G_osm.initialReadIn()"
   ]
  },
  {
   "cell_type": "code",
   "execution_count": null,
   "metadata": {},
   "outputs": [],
   "source": [
    "print(G_regular.number_of_nodes())\n",
    "print(G_regular.number_of_edges())\n",
    "print(gn.example_edge(G_regular))\n",
    "print(gn.example_node(G_regular))"
   ]
  },
  {
   "cell_type": "code",
   "execution_count": null,
   "metadata": {},
   "outputs": [],
   "source": [
    "importlib.reload(losmium)\n",
    "h = losmium.HighwayExtractor(False)\n",
    "h.apply_file(osm_file, locations=True)"
   ]
  },
  {
   "cell_type": "code",
   "execution_count": null,
   "metadata": {},
   "outputs": [],
   "source": [
    "nodes_df = pd.DataFrame(h.nodes, columns = [\"osm_id\", \"geometry\", \"x\", \"y\"])"
   ]
  },
  {
   "cell_type": "code",
   "execution_count": null,
   "metadata": {},
   "outputs": [],
   "source": []
  },
  {
   "cell_type": "code",
   "execution_count": null,
   "metadata": {},
   "outputs": [],
   "source": []
  },
  {
   "cell_type": "code",
   "execution_count": null,
   "metadata": {},
   "outputs": [],
   "source": [
    "importlib.reload(losmium)\n",
    "G = losmium.create_G(osm_file, verbose=False, project='', densify = False)\n",
    "#G = nx.convert_node_labels_to_integers(G)"
   ]
  },
  {
   "cell_type": "code",
   "execution_count": null,
   "metadata": {},
   "outputs": [],
   "source": [
    "print(G.number_of_nodes())\n",
    "print(G.number_of_edges())\n",
    "print(gn.example_edge(G))\n",
    "print(gn.example_node(G))"
   ]
  },
  {
   "cell_type": "code",
   "execution_count": null,
   "metadata": {},
   "outputs": [],
   "source": [
    "#Extract largest subgraph from regular load\n",
    "list_of_subgraphs = list(nx.strongly_connected_component_subgraphs(G_regular))\n",
    "print(len(list_of_subgraphs))\n",
    "max_graph = None\n",
    "max_edges = 0\n",
    "for i in list_of_subgraphs:\n",
    "    if i.number_of_edges() > 0:\n",
    "        print(i.number_of_edges())\n",
    "    if i.number_of_edges() > max_edges:\n",
    "        max_edges = i.number_of_edges()\n",
    "        max_graph = i\n",
    "print(max_edges)\n",
    "G_max = max_graph"
   ]
  },
  {
   "cell_type": "code",
   "execution_count": null,
   "metadata": {},
   "outputs": [],
   "source": [
    "#Extract largest subgraph from regular load\n",
    "list_of_subgraphs = list(nx.strongly_connected_component_subgraphs(G))\n",
    "print(len(list_of_subgraphs))\n",
    "max_graph = None\n",
    "max_edges = 0\n",
    "for i in list_of_subgraphs:   \n",
    "    if i.number_of_edges() > 2:\n",
    "        print(i.number_of_edges())\n",
    "    if i.number_of_edges() > max_edges:\n",
    "        max_edges = i.number_of_edges()\n",
    "        max_graph = i\n",
    "print(max_edges)\n",
    "G_osmium = max_graph"
   ]
  },
  {
   "cell_type": "code",
   "execution_count": null,
   "metadata": {},
   "outputs": [],
   "source": [
    "print(list(G_max.nodes(data=True))[0])\n",
    "print(list(G_max.edges(data=True))[0])"
   ]
  },
  {
   "cell_type": "code",
   "execution_count": null,
   "metadata": {},
   "outputs": [],
   "source": [
    "# Write to file\n",
    "gn.edge_gdf_from_graph(G_max).to_csv(\"C:/temp/G_max_edges.csv\")"
   ]
  },
  {
   "cell_type": "code",
   "execution_count": null,
   "metadata": {},
   "outputs": [],
   "source": [
    "print(list(G_osmium.nodes(data=True))[0])\n",
    "print(list(G_osmium.edges(data=True))[0])"
   ]
  },
  {
   "cell_type": "code",
   "execution_count": null,
   "metadata": {},
   "outputs": [],
   "source": [
    "gn.edge_gdf_from_graph(G_osmium, geometry_tag='Wkt').to_csv(\"C:/temp/G_osmium_edges.csv\")"
   ]
  },
  {
   "cell_type": "code",
   "execution_count": null,
   "metadata": {},
   "outputs": [],
   "source": [
    "print(G.number_of_edges())\n",
    "print(G.number_of_nodes())"
   ]
  },
  {
   "cell_type": "code",
   "execution_count": null,
   "metadata": {},
   "outputs": [],
   "source": [
    "%%time\n",
    "G2 = losm.create_G(osm_file, verbose=False, project=3106, densify = False)"
   ]
  },
  {
   "cell_type": "code",
   "execution_count": null,
   "metadata": {},
   "outputs": [],
   "source": [
    "print(G2.number_of_edges())\n",
    "print(G2.number_of_nodes())"
   ]
  },
  {
   "cell_type": "code",
   "execution_count": null,
   "metadata": {},
   "outputs": [],
   "source": [
    "%%time\n",
    "G3 = losmium.create_G(osm_file, verbose=False, project='', densify = True)"
   ]
  },
  {
   "cell_type": "code",
   "execution_count": null,
   "metadata": {},
   "outputs": [],
   "source": [
    "print(G3.number_of_edges())\n",
    "print(G3.number_of_nodes())"
   ]
  },
  {
   "cell_type": "code",
   "execution_count": null,
   "metadata": {},
   "outputs": [],
   "source": [
    "%%time\n",
    "G4 = losm.create_G(osm_file, verbose=False, project=3106, densify = True)"
   ]
  },
  {
   "cell_type": "code",
   "execution_count": null,
   "metadata": {},
   "outputs": [],
   "source": [
    "print(G4.number_of_edges())\n",
    "print(G4.number_of_nodes())"
   ]
  },
  {
   "cell_type": "markdown",
   "metadata": {},
   "source": [
    "# Read in and process mapbox data"
   ]
  },
  {
   "cell_type": "code",
   "execution_count": null,
   "metadata": {},
   "outputs": [],
   "source": [
    "# Test processing of mapbox traffic files\n",
    "mb_traffic = mb.simplify_mapbox_csv(mapbox_traffic_file)"
   ]
  },
  {
   "cell_type": "code",
   "execution_count": null,
   "metadata": {},
   "outputs": [],
   "source": [
    "list_of_subgraphs = list(nx.strongly_connected_component_subgraphs(G))\n",
    "print(len(list_of_subgraphs))\n",
    "max_graph = None\n",
    "max_edges = 0\n",
    "for i in list_of_subgraphs:\n",
    "    print(i.number_of_edges())\n",
    "    if i.number_of_edges() > max_edges:\n",
    "        max_edges = i.number_of_edges()\n",
    "        max_graph = i"
   ]
  },
  {
   "cell_type": "code",
   "execution_count": null,
   "metadata": {},
   "outputs": [],
   "source": [
    "importlib.reload(GOSTnets.network_clean)\n",
    "G_clean = GOSTnets.network_clean.eliminate_small_networks(G)"
   ]
  },
  {
   "cell_type": "code",
   "execution_count": null,
   "metadata": {},
   "outputs": [],
   "source": [
    "print(G.number_of_edges())\n",
    "print(G_clean.number_of_edges())"
   ]
  },
  {
   "cell_type": "code",
   "execution_count": null,
   "metadata": {},
   "outputs": [],
   "source": [
    "importlib.reload(mb)\n",
    "\n",
    "xx = mb.attach_traffic_data_ways(G, mb_traffic)"
   ]
  },
  {
   "cell_type": "code",
   "execution_count": null,
   "metadata": {},
   "outputs": [],
   "source": [
    "# Generate reference to the edges and node datasets from the network\n",
    "cur_highways = gn.edge_gdf_from_graph(G, geometry_tag='Wkt')"
   ]
  },
  {
   "cell_type": "code",
   "execution_count": null,
   "metadata": {},
   "outputs": [],
   "source": [
    "cur_highways"
   ]
  },
  {
   "cell_type": "code",
   "execution_count": null,
   "metadata": {},
   "outputs": [],
   "source": []
  },
  {
   "cell_type": "code",
   "execution_count": null,
   "metadata": {},
   "outputs": [],
   "source": [
    "xx.head()"
   ]
  },
  {
   "cell_type": "code",
   "execution_count": null,
   "metadata": {},
   "outputs": [],
   "source": [
    "cur_highways['mb_min'] = 0\n",
    "cur_highways['mb_avg'] = 0\n",
    "cur_highways['mb_max'] = 0\n",
    "\n",
    "for idx, row in cur_highways.iterrows():\n",
    "    nodes = row['osm_nodes']\n",
    "    min_speed = []\n",
    "    max_speed = []\n",
    "    avg_speed = []\n",
    "    for nIdx in range(0, len(nodes) - 1):\n",
    "        st_node = nodes[nIdx]\n",
    "        end_node = nodes[nIdx + 1]\n",
    "        try:\n",
    "            cur_speed = mb_traffic.loc[(mb_traffic['FROM_NODE'] == st_node) & \n",
    "                                       (mb_traffic['TO_NODE'] == end_node),].iloc[0]\n",
    "            min_speed.append(cur_speed['min_speed'])\n",
    "            max_speed.append(cur_speed['max_speed'])\n",
    "            avg_speed.append(cur_speed['mean_speed'])\n",
    "            all_speeds.append(cur_speed)\n",
    "        except:\n",
    "            pass\n",
    "    cur_highways.loc[idx, 'min_speed'] = np.mean(min_speed)\n",
    "    cur_highways.loc[idx, 'max_speed'] = np.mean(max_speed)\n",
    "    cur_highways.loc[idx, 'avg_speed'] = np.mean(avg_speed)\n"
   ]
  },
  {
   "cell_type": "code",
   "execution_count": null,
   "metadata": {},
   "outputs": [],
   "source": [
    "cur_highways['min_speed'].fillna(0, inplace=True)\n",
    "cur_highways['max_speed'].fillna(0, inplace=True)\n",
    "cur_highways['avg_speed'].fillna(0, inplace=True)"
   ]
  },
  {
   "cell_type": "code",
   "execution_count": null,
   "metadata": {},
   "outputs": [],
   "source": [
    "cur_dict = gn.gost_speed_dict\n",
    "cur_dict['service'] = 10\n",
    "cur_dict['track'] = 5\n",
    "cur_highways['speed'] = cur_highways['infra_type']\n",
    "cur_highways['speed'].replace(gn.gost_speed_dict, inplace=True)\n",
    "cur_highways['mb_speed'].fillna(0, inplace=True)\n",
    "cur_highways['diff'] = cur_highways['speed'] - cur_highways['mb_speed']"
   ]
  },
  {
   "cell_type": "code",
   "execution_count": null,
   "metadata": {},
   "outputs": [],
   "source": []
  },
  {
   "cell_type": "code",
   "execution_count": null,
   "metadata": {},
   "outputs": [],
   "source": [
    "cur_highways.to_csv(\"C:/temp/highways2.csv\")"
   ]
  },
  {
   "cell_type": "code",
   "execution_count": null,
   "metadata": {},
   "outputs": [],
   "source": [
    "cur_highways.head(20)"
   ]
  },
  {
   "cell_type": "code",
   "execution_count": null,
   "metadata": {},
   "outputs": [],
   "source": [
    "cur_highways.shape"
   ]
  },
  {
   "cell_type": "code",
   "execution_count": null,
   "metadata": {},
   "outputs": [],
   "source": []
  }
 ],
 "metadata": {
  "kernelspec": {
   "display_name": "Python (geog)",
   "language": "python",
   "name": "geog"
  },
  "language_info": {
   "codemirror_mode": {
    "name": "ipython",
    "version": 3
   },
   "file_extension": ".py",
   "mimetype": "text/x-python",
   "name": "python",
   "nbconvert_exporter": "python",
   "pygments_lexer": "ipython3",
   "version": "3.6.7"
  }
 },
 "nbformat": 4,
 "nbformat_minor": 2
}
