{
 "cells": [
  {
   "cell_type": "markdown",
   "metadata": {},
   "source": [
    "### Extract from OSM\n",
    "The purpose of this script is to show how to go from a .osm.pbf file to a network format that GOSTnets will accept. \n",
    "Additional modifications in this script include: clipping the roads to an input polygon (here, rek2.shp), and slicing the roads DataFrame by a list of accepted road types, as tagged in OSM (see accepted_road_types list). "
   ]
  },
  {
   "cell_type": "code",
   "execution_count": 1,
   "metadata": {},
   "outputs": [],
   "source": [
    "import geopandas as gpd\n",
    "import pandas as pd\n",
    "import os, sys"
   ]
  },
  {
   "cell_type": "code",
   "execution_count": 2,
   "metadata": {},
   "outputs": [
    {
     "name": "stdout",
     "output_type": "stream",
     "text": [
      "networkx version: 2.4 \n",
      "matplotlib version: 3.1.2 \n",
      "osmnx version: 0.11 \n"
     ]
    }
   ],
   "source": [
    "# add to your system path the location of the LoadOSM.py and GOSTnet.py scripts\n",
    "sys.path.append(\"../\")\n",
    "import GOSTnets as gn"
   ]
  },
  {
   "cell_type": "code",
   "execution_count": 3,
   "metadata": {},
   "outputs": [],
   "source": [
    "import importlib"
   ]
  },
  {
   "cell_type": "markdown",
   "metadata": {},
   "source": [
    "Define filepaths. Note the amendments that need to be made to file paths!"
   ]
  },
  {
   "cell_type": "code",
   "execution_count": 33,
   "metadata": {},
   "outputs": [],
   "source": [
    "pth = \"./\" # change this path to your working folder\n",
    "fil = r'iceland-latest.osm.pbf' # download this file from geofabrik: http://download.geofabrik.de/europe/iceland.html. \n",
    "\n",
    "# be sure to place the .osm.pbf file in the 'tutorial data' folder. \n",
    "\n",
    "f = os.path.join(pth, 'tutorial_data', fil)"
   ]
  },
  {
   "cell_type": "markdown",
   "metadata": {},
   "source": [
    "Using the loadOSM library, pass the filepath of the .osm.pbf to initiate a OSM_to_network class"
   ]
  },
  {
   "cell_type": "code",
   "execution_count": 34,
   "metadata": {},
   "outputs": [
    {
     "data": {
      "text/plain": [
       "'./tutorial_data/iceland-latest.osm.pbf'"
      ]
     },
     "execution_count": 34,
     "metadata": {},
     "output_type": "execute_result"
    }
   ],
   "source": [
    "#dir(gn)\n",
    "f"
   ]
  },
  {
   "cell_type": "code",
   "execution_count": 35,
   "metadata": {},
   "outputs": [],
   "source": [
    "from osgeo import ogr"
   ]
  },
  {
   "cell_type": "code",
   "execution_count": 36,
   "metadata": {},
   "outputs": [
    {
     "data": {
      "text/plain": [
       "['ALTER_ALL_FLAG',\n",
       " 'ALTER_DEFAULT_FLAG',\n",
       " 'ALTER_NAME_FLAG',\n",
       " 'ALTER_NULLABLE_FLAG',\n",
       " 'ALTER_TYPE_FLAG',\n",
       " 'ALTER_WIDTH_PRECISION_FLAG',\n",
       " 'ApproximateArcAngles',\n",
       " 'BuildPolygonFromEdges',\n",
       " 'CreateGeometryFromGML',\n",
       " 'CreateGeometryFromJson',\n",
       " 'CreateGeometryFromWkb',\n",
       " 'CreateGeometryFromWkt',\n",
       " 'DataSource',\n",
       " 'DataSource_swigregister',\n",
       " 'DontUseExceptions',\n",
       " 'Driver',\n",
       " 'Driver_swigregister',\n",
       " 'F_VAL_ALL',\n",
       " 'F_VAL_ALLOW_NULL_WHEN_DEFAULT',\n",
       " 'F_VAL_GEOM_TYPE',\n",
       " 'F_VAL_NULL',\n",
       " 'F_VAL_WIDTH',\n",
       " 'Feature',\n",
       " 'FeatureDefn',\n",
       " 'FeatureDefn_swigregister',\n",
       " 'Feature_swigregister',\n",
       " 'FieldDefn',\n",
       " 'FieldDefn_swigregister',\n",
       " 'ForceTo',\n",
       " 'ForceToLineString',\n",
       " 'ForceToMultiLineString',\n",
       " 'ForceToMultiPoint',\n",
       " 'ForceToMultiPolygon',\n",
       " 'ForceToPolygon',\n",
       " 'GT_Flatten',\n",
       " 'GT_GetCollection',\n",
       " 'GT_GetCurve',\n",
       " 'GT_GetLinear',\n",
       " 'GT_HasM',\n",
       " 'GT_HasZ',\n",
       " 'GT_IsCurve',\n",
       " 'GT_IsNonLinear',\n",
       " 'GT_IsSubClassOf',\n",
       " 'GT_IsSurface',\n",
       " 'GT_SetM',\n",
       " 'GT_SetModifier',\n",
       " 'GT_SetZ',\n",
       " 'GeneralCmdLineProcessor',\n",
       " 'GeomFieldDefn',\n",
       " 'GeomFieldDefn_swigregister',\n",
       " 'Geometry',\n",
       " 'GeometryTypeToName',\n",
       " 'Geometry_swigregister',\n",
       " 'GetDriver',\n",
       " 'GetDriverByName',\n",
       " 'GetDriverCount',\n",
       " 'GetFieldSubTypeName',\n",
       " 'GetFieldTypeName',\n",
       " 'GetNonLinearGeometriesEnabledFlag',\n",
       " 'GetOpenDS',\n",
       " 'GetOpenDSCount',\n",
       " 'GetUseExceptions',\n",
       " 'Layer',\n",
       " 'Layer_swigregister',\n",
       " 'MajorObject',\n",
       " 'MajorObject_swigregister',\n",
       " 'NullFID',\n",
       " 'ODrCCreateDataSource',\n",
       " 'ODrCDeleteDataSource',\n",
       " 'ODsCCreateGeomFieldAfterCreateLayer',\n",
       " 'ODsCCreateLayer',\n",
       " 'ODsCCurveGeometries',\n",
       " 'ODsCDeleteLayer',\n",
       " 'ODsCEmulatedTransactions',\n",
       " 'ODsCMeasuredGeometries',\n",
       " 'ODsCRandomLayerRead',\n",
       " 'ODsCRandomLayerWrite',\n",
       " 'ODsCTransactions',\n",
       " 'OFSTBoolean',\n",
       " 'OFSTFloat32',\n",
       " 'OFSTInt16',\n",
       " 'OFSTJSON',\n",
       " 'OFSTNone',\n",
       " 'OFTBinary',\n",
       " 'OFTDate',\n",
       " 'OFTDateTime',\n",
       " 'OFTInteger',\n",
       " 'OFTInteger64',\n",
       " 'OFTInteger64List',\n",
       " 'OFTIntegerList',\n",
       " 'OFTReal',\n",
       " 'OFTRealList',\n",
       " 'OFTString',\n",
       " 'OFTStringList',\n",
       " 'OFTTime',\n",
       " 'OFTWideString',\n",
       " 'OFTWideStringList',\n",
       " 'OGRERR_CORRUPT_DATA',\n",
       " 'OGRERR_FAILURE',\n",
       " 'OGRERR_INVALID_HANDLE',\n",
       " 'OGRERR_NONE',\n",
       " 'OGRERR_NON_EXISTING_FEATURE',\n",
       " 'OGRERR_NOT_ENOUGH_DATA',\n",
       " 'OGRERR_NOT_ENOUGH_MEMORY',\n",
       " 'OGRERR_UNSUPPORTED_GEOMETRY_TYPE',\n",
       " 'OGRERR_UNSUPPORTED_OPERATION',\n",
       " 'OGRERR_UNSUPPORTED_SRS',\n",
       " 'OJLeft',\n",
       " 'OJRight',\n",
       " 'OJUndefined',\n",
       " 'OLCAlterFieldDefn',\n",
       " 'OLCCreateField',\n",
       " 'OLCCreateGeomField',\n",
       " 'OLCCurveGeometries',\n",
       " 'OLCDeleteFeature',\n",
       " 'OLCDeleteField',\n",
       " 'OLCFastFeatureCount',\n",
       " 'OLCFastGetExtent',\n",
       " 'OLCFastSetNextByIndex',\n",
       " 'OLCFastSpatialFilter',\n",
       " 'OLCIgnoreFields',\n",
       " 'OLCMeasuredGeometries',\n",
       " 'OLCRandomRead',\n",
       " 'OLCRandomWrite',\n",
       " 'OLCReorderFields',\n",
       " 'OLCSequentialWrite',\n",
       " 'OLCStringsAsUTF8',\n",
       " 'OLCTransactions',\n",
       " 'OLMD_FID64',\n",
       " 'Open',\n",
       " 'OpenShared',\n",
       " 'RegisterAll',\n",
       " 'SetGenerate_DB2_V72_BYTE_ORDER',\n",
       " 'SetNonLinearGeometriesEnabledFlag',\n",
       " 'StyleTable',\n",
       " 'StyleTable_swigregister',\n",
       " 'TermProgress',\n",
       " 'TermProgress_nocb',\n",
       " 'UseExceptions',\n",
       " '__builtins__',\n",
       " '__cached__',\n",
       " '__doc__',\n",
       " '__file__',\n",
       " '__loader__',\n",
       " '__name__',\n",
       " '__package__',\n",
       " '__spec__',\n",
       " '_newclass',\n",
       " '_object',\n",
       " '_ogr',\n",
       " '_swig_getattr',\n",
       " '_swig_getattr_nondynamic',\n",
       " '_swig_property',\n",
       " '_swig_repr',\n",
       " '_swig_setattr',\n",
       " '_swig_setattr_nondynamic',\n",
       " 'osr',\n",
       " 'wkb25Bit',\n",
       " 'wkb25DBit',\n",
       " 'wkbCircularString',\n",
       " 'wkbCircularStringM',\n",
       " 'wkbCircularStringZ',\n",
       " 'wkbCircularStringZM',\n",
       " 'wkbCompoundCurve',\n",
       " 'wkbCompoundCurveM',\n",
       " 'wkbCompoundCurveZ',\n",
       " 'wkbCompoundCurveZM',\n",
       " 'wkbCurve',\n",
       " 'wkbCurveM',\n",
       " 'wkbCurvePolygon',\n",
       " 'wkbCurvePolygonM',\n",
       " 'wkbCurvePolygonZ',\n",
       " 'wkbCurvePolygonZM',\n",
       " 'wkbCurveZ',\n",
       " 'wkbCurveZM',\n",
       " 'wkbGeometryCollection',\n",
       " 'wkbGeometryCollection25D',\n",
       " 'wkbGeometryCollectionM',\n",
       " 'wkbGeometryCollectionZM',\n",
       " 'wkbLineString',\n",
       " 'wkbLineString25D',\n",
       " 'wkbLineStringM',\n",
       " 'wkbLineStringZM',\n",
       " 'wkbLinearRing',\n",
       " 'wkbMultiCurve',\n",
       " 'wkbMultiCurveM',\n",
       " 'wkbMultiCurveZ',\n",
       " 'wkbMultiCurveZM',\n",
       " 'wkbMultiLineString',\n",
       " 'wkbMultiLineString25D',\n",
       " 'wkbMultiLineStringM',\n",
       " 'wkbMultiLineStringZM',\n",
       " 'wkbMultiPoint',\n",
       " 'wkbMultiPoint25D',\n",
       " 'wkbMultiPointM',\n",
       " 'wkbMultiPointZM',\n",
       " 'wkbMultiPolygon',\n",
       " 'wkbMultiPolygon25D',\n",
       " 'wkbMultiPolygonM',\n",
       " 'wkbMultiPolygonZM',\n",
       " 'wkbMultiSurface',\n",
       " 'wkbMultiSurfaceM',\n",
       " 'wkbMultiSurfaceZ',\n",
       " 'wkbMultiSurfaceZM',\n",
       " 'wkbNDR',\n",
       " 'wkbNone',\n",
       " 'wkbPoint',\n",
       " 'wkbPoint25D',\n",
       " 'wkbPointM',\n",
       " 'wkbPointZM',\n",
       " 'wkbPolygon',\n",
       " 'wkbPolygon25D',\n",
       " 'wkbPolygonM',\n",
       " 'wkbPolygonZM',\n",
       " 'wkbPolyhedralSurface',\n",
       " 'wkbPolyhedralSurfaceM',\n",
       " 'wkbPolyhedralSurfaceZ',\n",
       " 'wkbPolyhedralSurfaceZM',\n",
       " 'wkbSurface',\n",
       " 'wkbSurfaceM',\n",
       " 'wkbSurfaceZ',\n",
       " 'wkbSurfaceZM',\n",
       " 'wkbTIN',\n",
       " 'wkbTINM',\n",
       " 'wkbTINZ',\n",
       " 'wkbTINZM',\n",
       " 'wkbTriangle',\n",
       " 'wkbTriangleM',\n",
       " 'wkbTriangleZ',\n",
       " 'wkbTriangleZM',\n",
       " 'wkbUnknown',\n",
       " 'wkbXDR']"
      ]
     },
     "execution_count": 36,
     "metadata": {},
     "output_type": "execute_result"
    }
   ],
   "source": [
    "dir(ogr)"
   ]
  },
  {
   "cell_type": "code",
   "execution_count": null,
   "metadata": {},
   "outputs": [],
   "source": [
    "iceland = gn.OSM_to_network(f)"
   ]
  },
  {
   "cell_type": "markdown",
   "metadata": {},
   "source": [
    "This generates a property of the class called 'roads_raw'. This is a raw dataframe of the highway objects, extracted from the .osm.pbf. This is the starting point for our network."
   ]
  },
  {
   "cell_type": "code",
   "execution_count": null,
   "metadata": {},
   "outputs": [],
   "source": [
    "iceland.roads_raw.infra_type.value_counts()"
   ]
  },
  {
   "cell_type": "markdown",
   "metadata": {},
   "source": [
    "We define a list of the types of roads from the above that we consider acceptable for our road network"
   ]
  },
  {
   "cell_type": "code",
   "execution_count": null,
   "metadata": {},
   "outputs": [],
   "source": [
    "accepted_road_types = ['residential', 'unclassified', 'track','service','tertiary','road','secondary','primary','trunk','primary_link','trunk_link','tertiary_link','secondary_link']"
   ]
  },
  {
   "cell_type": "markdown",
   "metadata": {},
   "source": [
    "We call the filerRoads method and pass it a list of acceptable road types"
   ]
  },
  {
   "cell_type": "code",
   "execution_count": null,
   "metadata": {},
   "outputs": [],
   "source": [
    "iceland.filterRoads(acceptedRoads = accepted_road_types)"
   ]
  },
  {
   "cell_type": "code",
   "execution_count": null,
   "metadata": {},
   "outputs": [],
   "source": [
    "iceland.roads_raw.infra_type.value_counts()"
   ]
  },
  {
   "cell_type": "markdown",
   "metadata": {},
   "source": [
    "Here, we import a shapefile for our area of interest. I want to make a map of Reykjavik, Iceland. I clip the extent of the country file to just the area around the capital (rek2.shp) below using standard GeoPandas functions:"
   ]
  },
  {
   "cell_type": "code",
   "execution_count": null,
   "metadata": {},
   "outputs": [],
   "source": [
    "shp = gpd.read_file(os.path.join(pth, 'tutorial_data', 'rek2.shp'))\n",
    "shp = shp.to_crs({'init':'epsg:4326'})\n",
    "shp_obj = shp.geometry.iloc[0]"
   ]
  },
  {
   "cell_type": "markdown",
   "metadata": {},
   "source": [
    "I check to see everything lines up by running intersect and counting the True / False returns:"
   ]
  },
  {
   "cell_type": "code",
   "execution_count": null,
   "metadata": {},
   "outputs": [],
   "source": [
    "iceland.roads_raw.geometry.intersects(shp_obj).value_counts()"
   ]
  },
  {
   "cell_type": "markdown",
   "metadata": {},
   "source": [
    "Then, I do this properly by modifying the roads_raw DF object - I remove any roads that don't intersect the capital area"
   ]
  },
  {
   "cell_type": "code",
   "execution_count": null,
   "metadata": {},
   "outputs": [],
   "source": [
    "iceland.roads_raw = iceland.roads_raw.loc[iceland.roads_raw.geometry.intersects(shp_obj) == True]"
   ]
  },
  {
   "cell_type": "markdown",
   "metadata": {},
   "source": [
    "having narrowed the DataFrame to the roads we are interested in, we generate the RoadsGDF object"
   ]
  },
  {
   "cell_type": "code",
   "execution_count": null,
   "metadata": {},
   "outputs": [],
   "source": [
    "iceland.generateRoadsGDF(verbose = False)"
   ]
  },
  {
   "cell_type": "markdown",
   "metadata": {},
   "source": [
    "With initialReadIn(), we transform this to a graph object"
   ]
  },
  {
   "cell_type": "code",
   "execution_count": null,
   "metadata": {},
   "outputs": [],
   "source": [
    "iceland.initialReadIn()"
   ]
  },
  {
   "cell_type": "markdown",
   "metadata": {},
   "source": [
    "We save this graph object down to file using gn.save()"
   ]
  },
  {
   "cell_type": "code",
   "execution_count": null,
   "metadata": {},
   "outputs": [],
   "source": [
    "gn.save(iceland.network,'Iceland_unclean',os.path.join(pth, 'tutorial_outputs'))"
   ]
  },
  {
   "cell_type": "markdown",
   "metadata": {},
   "source": [
    "Move on to Step 2 to see how we clean up this rough network."
   ]
  }
 ],
 "metadata": {
  "kernelspec": {
   "display_name": "Python 3",
   "language": "python",
   "name": "python3"
  },
  "language_info": {
   "codemirror_mode": {
    "name": "ipython",
    "version": 3
   },
   "file_extension": ".py",
   "mimetype": "text/x-python",
   "name": "python",
   "nbconvert_exporter": "python",
   "pygments_lexer": "ipython3",
   "version": "3.7.0"
  }
 },
 "nbformat": 4,
 "nbformat_minor": 2
}
