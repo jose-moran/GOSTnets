{
 "cells": [
  {
   "cell_type": "markdown",
   "metadata": {},
   "source": [
    "### Clean Network\n",
    "In this process developed by Charles Fox, we move from a GOSTnets raw graph object (see Extract from osm.pbf) to a routable network. This process is fairly bespoke, with several parameters and opportunities for significant network simplification. "
   ]
  },
  {
   "cell_type": "code",
   "execution_count": 15,
   "metadata": {
    "collapsed": true
   },
   "outputs": [],
   "source": [
    "import geopandas as gpd\n",
    "import os, sys, time\n",
    "import pandas as pd\n",
    "sys.path.append(r'C:\\Users\\charl\\Documents\\GitHub\\GOST_PublicGoods\\GOSTNets\\GOSTNets')\n",
    "import GOSTnet as gn\n",
    "import importlib\n",
    "import networkx as nx\n",
    "import osmnx as ox\n",
    "from shapely.ops import unary_union\n",
    "from shapely.wkt import loads\n",
    "from shapely.geometry import LineString, MultiLineString, Point"
   ]
  },
  {
   "cell_type": "markdown",
   "metadata": {},
   "source": [
    "This function defines the order of GOSTnet functions we will call on the input network object. The verbose flag causes the process to save down intermediate files - helpful for troubleshooting"
   ]
  },
  {
   "cell_type": "code",
   "execution_count": 16,
   "metadata": {
    "collapsed": true
   },
   "outputs": [],
   "source": [
    "def CleanNetwork(G, wpath, country, UTM, WGS = {'init': 'epsg:4326'}, junctdist = 50, verbose = False):\n",
    "    \n",
    "    ### Topologically simplifies an input graph object by collapsing junctions and removing interstital nodes\n",
    "    # REQUIRED - G: a graph object containing nodes and edges. edges should have a property \n",
    "    #               called 'Wkt' containing geometry objects describing the roads\n",
    "    #            wpath: the write path - a drive directory for inputs and output\n",
    "    #            country: this parameter allows for the sequential processing of multiple countries\n",
    "    #            UTM: the epsg code of the projection, in metres, to apply the junctdist\n",
    "    # OPTIONAL - junctdist: distance within which to collapse neighboring nodes. simplifies junctions. \n",
    "    #            Set to 0.1 if not simplification desired. 50m good for national (primary / secondary) networks\n",
    "    #            verbose: if True, saves down intermediate stages for dissection\n",
    "    ################################################################################################\n",
    "    \n",
    "    # Squeezes clusters of nodes down to a single node if they are within the snapping tolerance\n",
    "    a = gn.simplify_junctions(G, UTM, WGS, junctdist)\n",
    "\n",
    "    # ensures all streets are two-way\n",
    "    a = gn.add_missing_reflected_edges(a)\n",
    "    \n",
    "    #save progress\n",
    "    if verbose is True: \n",
    "        gn.save(a, 'a', wpath)\n",
    "    \n",
    "    # Finds and deletes interstital nodes based on node degree\n",
    "    b = gn.custom_simplify(a)\n",
    "    \n",
    "    # rectify geometry\n",
    "    for u, v, data in b.edges(data = True):\n",
    "        if type(data['Wkt']) == list:\n",
    "                data['Wkt'] = gn.unbundle_geometry(data['Wkt'])\n",
    "    \n",
    "    # save progress\n",
    "    if verbose is True: \n",
    "        gn.save(b, 'b', wpath)\n",
    "    \n",
    "    # For some reason CustomSimplify doesn't return a MultiDiGraph. Fix that here\n",
    "    c = gn.convert_to_MultiDiGraph(b)\n",
    "\n",
    "    # This is the most controversial function - removes duplicated edges. This takes care of two-lane but separate highways, BUT\n",
    "    # destroys internal loops within roads. Can be run with or without this line\n",
    "    c = gn.remove_duplicate_edges(c)\n",
    "\n",
    "    # Run this again after removing duplicated edges\n",
    "    c = gn.custom_simplify(c)\n",
    "\n",
    "    # Ensure all remaining edges are duplicated (two-way streets)\n",
    "    c = gn.add_missing_reflected_edges(c)\n",
    "    \n",
    "    # save final\n",
    "    gn.save(c, '%s_processed' % country, wpath)\n",
    "    \n",
    "    print('Edge reduction: %s to %s (%d percent)' % (G.number_of_edges(), \n",
    "                                               c.number_of_edges(), \n",
    "                                               ((G.number_of_edges() - c.number_of_edges())/G.number_of_edges()*100)))\n",
    "    return c"
   ]
  },
  {
   "cell_type": "markdown",
   "metadata": {},
   "source": [
    "This is the main process - and is only needed to fire off CleanNetwork. G objects can either be loaded from pickled graph objects, or can be passed in from extraction / other processing chains. \n",
    "\n",
    "WARNING: expect this step to take a while. It will produce a pickled graph object, a dataframe of the edges, and a dataframe of the nodes. The expectation is that this will only have to be run once."
   ]
  },
  {
   "cell_type": "code",
   "execution_count": 18,
   "metadata": {},
   "outputs": [
    {
     "name": "stdout",
     "output_type": "stream",
     "text": [
      "\n",
      "--- processing for: ISL ---\n",
      "\n",
      "start: Fri Jun  7 15:40:09 2019\n",
      "\n",
      "Outputs can be found at: C:\\Users\\charl\\Documents\\T\n",
      "\n",
      "19456\n",
      "38540\n",
      "18095\n",
      "35497\n",
      "Edge reduction: 19463 to 35497 (-82 percent)\n",
      "\n",
      "end: Fri Jun  7 15:41:18 2019\n",
      "\n",
      "--- processing complete for: ISL ---\n"
     ]
    }
   ],
   "source": [
    "UTMZs = {'ISL':32627} # Here, we set the EPSG code for the country (ISL)  we are working with. \n",
    "# Though formulaic options exist, choice of EPSG code should rest with the user; so this needs to be manually changed each time.\n",
    "\n",
    "WGS = {'init': 'epsg:4326'} # do not adjust. OSM natively comes in ESPG 4326\n",
    "\n",
    "countries = ['ISL'] # this process can clean multiple networks at once in a loop style. Here, we only need to do it once!\n",
    "\n",
    "base_pth = r'C:\\Users\\charl\\Documents\\T' # adjust this input to your filepath. \n",
    "data_pth = os.path.join(base_pth, 'tutorial_outputs')\n",
    "\n",
    "for country in countries:\n",
    "    \n",
    "    print('\\n--- processing for: %s ---\\n' % country)\n",
    "    print('start: %s\\n' % time.ctime())\n",
    "\n",
    "    print('Outputs can be found at: %s\\n' % (data_pth))\n",
    "        \n",
    "    UTM = {'init': 'epsg:%d' % UTMZs[country]}\n",
    "    \n",
    "    G = nx.read_gpickle(os.path.join(data_pth, 'Iceland_unclean.pickle'))\n",
    "    \n",
    "    G = CleanNetwork(G, data_pth, country, UTM, WGS, 0.5, verbose = False)\n",
    "    print('\\nend: %s' % time.ctime())\n",
    "    print('\\n--- processing complete for: %s ---' % country)"
   ]
  },
  {
   "cell_type": "markdown",
   "metadata": {
    "collapsed": true
   },
   "source": [
    "At this point, our road network is fully prepped. \n",
    "Move on to Step 3 to see how we can use this network for some travel time analysis!"
   ]
  }
 ],
 "metadata": {
  "kernelspec": {
   "display_name": "Python 3",
   "language": "python",
   "name": "python3"
  },
  "language_info": {
   "codemirror_mode": {
    "name": "ipython",
    "version": 3
   },
   "file_extension": ".py",
   "mimetype": "text/x-python",
   "name": "python",
   "nbconvert_exporter": "python",
   "pygments_lexer": "ipython3",
   "version": "3.6.1"
  }
 },
 "nbformat": 4,
 "nbformat_minor": 2
}
